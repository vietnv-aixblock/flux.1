{
 "cells": [
  {
   "cell_type": "code",
   "execution_count": 2,
   "id": "02208f6f",
   "metadata": {},
   "outputs": [],
   "source": [
    "import sys, os\n",
    "\n",
    "os.chdir(\"../\")\n",
    "sys.path.append(os.getcwd())\n"
   ]
  },
  {
   "cell_type": "code",
   "execution_count": null,
   "id": "f63d296c",
   "metadata": {},
   "outputs": [],
   "source": [
    "import os\n",
    "import shutil\n",
    "import time\n",
    "import subprocess\n",
    "import threading\n",
    "import wandb\n",
    "import logging\n",
    "import asyncio\n",
    "import base64\n",
    "import json\n",
    "import hashlib\n",
    "import hmac\n",
    "from io import BytesIO\n",
    "from typing import List, Dict, Optional\n",
    "from datetime import datetime\n",
    "import zipfile\n",
    "from pathlib import Path\n",
    "\n",
    "# import torch\n",
    "from huggingface_hub import HfFolder, login\n",
    "from centrifuge import CentrifugeError, Client, ClientEventHandler, SubscriptionEventHandler\n",
    "from diffusers.pipelines.flux.pipeline_flux import FluxPipeline\n",
    "from diffusers import DiffusionPipeline\n",
    "from aixblock_ml.model import AIxBlockMLBase\n",
    "\n",
    "from logging_class import start_queue, write_log\n",
    "from function_ml import connect_project, download_dataset, upload_checkpoint\n",
    "from misc import get_device_count\n",
    "import constants as const"
   ]
  },
  {
   "cell_type": "code",
   "execution_count": null,
   "id": "07eb1ecd",
   "metadata": {},
   "outputs": [],
   "source": [
    "HfFolder.save_token(const.HF_TOKEN)\n",
    "login(token=const.HF_ACCESS_TOKEN)\n",
    "# wandb.login('allow',const.WANDB_TOKEN)\n",
    "# print(\"Login successful\")"
   ]
  },
  {
   "cell_type": "code",
   "execution_count": 94,
   "id": "a49a8f43",
   "metadata": {},
   "outputs": [],
   "source": [
    "dataset_path=\"/mnt/d/workplace/workplace_aixblock/ml-backend/flux/data/extract\"\n",
    "host_name=\"https://dev-us-west-1.aixblock.io\"\n",
    "token=\"ebcf0ceda01518700f41dfa234b6f4aaea0b57af\"\n",
    "project_id=432\n",
    "clone_dir=\"/mnt/d/workplace/workplace_aixblock/ml-backend/flux/data\"\n",
    "# dataset_id=\"coco_manual\"\n",
    "# dataset_id=\"yolo_manual\"\n",
    "# dataset_id=\"json_s3_export\"\n",
    "dataset_id=\"json_default\"\n"
   ]
  },
  {
   "cell_type": "code",
   "execution_count": 95,
   "id": "a74bf744",
   "metadata": {},
   "outputs": [],
   "source": [
    "project = connect_project(host_name, token, project_id)"
   ]
  },
  {
   "cell_type": "code",
   "execution_count": 96,
   "id": "9d34c164",
   "metadata": {},
   "outputs": [],
   "source": [
    "def is_platform_json_file(filename, folder_path):\n",
    "    # TODO: use different approach other than filename\n",
    "    files = [f for f in folder_path.iterdir() if f.is_file()]\n",
    "    print(filename == 'result.json', len(files) == 1)\n",
    "    if filename == 'result.json' and len(files) == 1:\n",
    "        return True\n",
    "    else:\n",
    "        return False\n",
    "\n",
    "def clean_folder(folder_path):\n",
    "    folder = Path(folder_path)\n",
    "    if not folder.exists():\n",
    "        print(\"Folder does not exist.\")\n",
    "        return\n",
    "\n",
    "    for item in folder.iterdir():\n",
    "        try:\n",
    "            if item.is_file() or item.is_symlink():\n",
    "                item.unlink()  # Delete file or symbolic link\n",
    "            elif item.is_dir():\n",
    "                shutil.rmtree(item)  # Delete folder and its contents\n",
    "        except Exception as e:\n",
    "            print(f\"Failed to delete {item}: {e}\")\n",
    "\n",
    "\n",
    "def get_first_json_file(folder_path):\n",
    "    folder = Path(folder_path)\n",
    "    for file in folder.iterdir():\n",
    "        if file.is_file() and file.suffix == '.json':\n",
    "            return file.name, file  \n",
    "    return None , None\n"
   ]
  },
  {
   "cell_type": "code",
   "execution_count": 97,
   "id": "626de712",
   "metadata": {},
   "outputs": [],
   "source": [
    "data_path = os.path.join(clone_dir, \"data_zip\")\n",
    "os.makedirs(data_path, exist_ok=True)\n",
    "# dataset_name = download_dataset(project, dataset_id, data_path)\n",
    "dataset_name = dataset_id + '.zip'\n",
    "if dataset_name:\n",
    "    data_zip_dir = os.path.join(data_path, dataset_name)\n",
    "    with zipfile.ZipFile(data_zip_dir, 'r') as zip_ref:\n",
    "        clean_folder(dataset_path)\n",
    "        zip_ref.extractall(path=dataset_path)\n",
    "        # conversion pipeline for aixblock storage, json file\n",
    "        # convert json file into specified format\n",
    "\n"
   ]
  },
  {
   "cell_type": "code",
   "execution_count": 98,
   "id": "5f4c25f4",
   "metadata": {},
   "outputs": [
    {
     "name": "stdout",
     "output_type": "stream",
     "text": [
      "json_default.json /mnt/d/workplace/workplace_aixblock/ml-backend/flux/data/extract/json_default.json\n",
      "False True\n"
     ]
    }
   ],
   "source": [
    "json_file, json_file_dir = get_first_json_file(dataset_path)\n",
    "print(json_file,json_file_dir)\n",
    "if json_file and is_platform_json_file(json_file, json_file_dir.parent):\n",
    "    with open(json_file_dir) as f:\n",
    "        jsonl_1 = json.load(f)\n",
    "        jsonl_2 = [{\"image\": data[\"data\"].get(\"images\"), \"prompt\": data.get(\"prompt\")} for data in jsonl_1]\n",
    "        with open(json_file_dir, 'w') as f:\n",
    "            json.dump(jsonl_2, f)\n",
    "        print(\"modified json to usable format\")\n",
    "        "
   ]
  },
  {
   "cell_type": "code",
   "execution_count": null,
   "id": "66b7b2e0",
   "metadata": {},
   "outputs": [],
   "source": [
    "!accelerate launch ./train_dreambooth_flux.py \\\n",
    "  --pretrained_model_name_or_path=\"hf-internal-testing/tiny-flux-pipe\"  \\\n",
    "  --dataset_name=\"lambdalabs/naruto-blip-captions\" #\"crystantine/fluxgym\" \\\n",
    "  --output_dir=\"./models/1\" \\\n",
    "  --instance_prompt=\"dog\" \\\n",
    "  --resolution=128 \\\n",
    "  --train_batch_size=100 \\\n",
    "  --gradient_accumulation_steps=1 \\\n",
    "  --learning_rate=5e-6 \\\n",
    "  --lr_scheduler=\"constant\" \\\n",
    "  --lr_warmup_steps=0 \\\n",
    "  --max_train_steps=1\n",
    "  --push_to_hub"
   ]
  },
  {
   "cell_type": "code",
   "execution_count": null,
   "id": "0180bab4",
   "metadata": {},
   "outputs": [],
   "source": [
    "# COCO\n",
    "!accelerate launch train_dreambooth_flux.py \\\n",
    "  --pretrained_model_name_or_path=\"hf-internal-testing/tiny-flux-pipe\" \\\n",
    "  --dataset_name=\"./data/extract\" \\\n",
    "  --output_dir=\"./models/1\" \\\n",
    "  --instance_prompt=\"dog\" \\\n",
    "  --resolution=128 \\\n",
    "  --train_batch_size=8 \\\n",
    "  --learning_rate=5e-6 \\\n",
    "  --max_train_steps=1 \\\n",
    "  --push_to_hub"
   ]
  },
  {
   "cell_type": "code",
   "execution_count": null,
   "id": "82d00c59",
   "metadata": {},
   "outputs": [],
   "source": [
    "# YOLO\n",
    "!accelerate launch train_dreambooth_flux.py \\\n",
    "  --pretrained_model_name_or_path=\"hf-internal-testing/tiny-flux-pipe\" \\\n",
    "  --dataset_name=\"./data/extract\" \\\n",
    "  --output_dir=\"./models/2\" \\\n",
    "  --instance_prompt=\"dog\" \\\n",
    "  --resolution=128 \\\n",
    "  --train_batch_size=8 \\\n",
    "  --learning_rate=5e-6 \\\n",
    "  --max_train_steps=1\\\n",
    "  --push_to_hub\n"
   ]
  },
  {
   "cell_type": "code",
   "execution_count": null,
   "id": "23bec439",
   "metadata": {},
   "outputs": [],
   "source": [
    "# json export file from s3\n",
    "!accelerate launch train_dreambooth_flux.py \\\n",
    "  --pretrained_model_name_or_path=\"hf-internal-testing/tiny-flux-pipe\" \\\n",
    "  --dataset_name=\"./data/extract\" \\\n",
    "  --output_dir=\"./models/3\" \\\n",
    "  --instance_prompt=\"dog\" \\\n",
    "  --resolution=128 \\\n",
    "  --train_batch_size=8 \\\n",
    "  --learning_rate=5e-6 \\\n",
    "  --max_train_steps=1\\\n",
    "  --push_to_hub"
   ]
  },
  {
   "cell_type": "code",
   "execution_count": null,
   "id": "eaa16f37",
   "metadata": {},
   "outputs": [
    {
     "name": "stdout",
     "output_type": "stream",
     "text": [
      "2025-02-16 12:48:15.843139: I tensorflow/core/util/port.cc:153] oneDNN custom operations are on. You may see slightly different numerical results due to floating-point round-off errors from different computation orders. To turn them off, set the environment variable `TF_ENABLE_ONEDNN_OPTS=0`.\n",
      "2025-02-16 12:48:15.967983: E external/local_xla/xla/stream_executor/cuda/cuda_fft.cc:477] Unable to register cuFFT factory: Attempting to register factory for plugin cuFFT when one has already been registered\n",
      "WARNING: All log messages before absl::InitializeLog() is called are written to STDERR\n",
      "E0000 00:00:1739710096.017916  183706 cuda_dnn.cc:8310] Unable to register cuDNN factory: Attempting to register factory for plugin cuDNN when one has already been registered\n",
      "E0000 00:00:1739710096.034040  183706 cuda_blas.cc:1418] Unable to register cuBLAS factory: Attempting to register factory for plugin cuBLAS when one has already been registered\n",
      "2025-02-16 12:48:16.174959: I tensorflow/core/platform/cpu_feature_guard.cc:210] This TensorFlow binary is optimized to use available CPU instructions in performance-critical operations.\n",
      "To enable the following instructions: AVX2 AVX512F AVX512_VNNI AVX512_BF16 FMA, in other operations, rebuild TensorFlow with the appropriate compiler flags.\n",
      "02/16/2025 12:48:20 - INFO - __main__ - Distributed environment: NO\n",
      "Num processes: 1\n",
      "Process index: 0\n",
      "Local process index: 0\n",
      "Device: cuda\n",
      "\n",
      "Mixed precision type: no\n",
      "\n",
      "You set `add_prefix_space`. The tokenizer needs to be converted from the slow tokenizers\n",
      "You are using a model of type clip_text_model to instantiate a model of type . This is not supported for all configurations of models and can yield errors.\n",
      "You are using a model of type t5 to instantiate a model of type . This is not supported for all configurations of models and can yield errors.\n",
      "{'invert_sigmas', 'use_karras_sigmas', 'use_exponential_sigmas', 'use_beta_sigmas', 'shift_terminal'} was not found in config. Values will be initialized to default values.\n",
      "Downloading shards: 100%|███████████████████████| 2/2 [00:00<00:00, 1492.10it/s]\n",
      "Loading checkpoint shards: 100%|██████████████████| 2/2 [00:10<00:00,  5.13s/it]\n",
      "Fetching 3 files: 100%|█████████████████████████| 3/3 [00:00<00:00, 4710.94it/s]\n",
      "{'out_channels', 'axes_dims_rope'} was not found in config. Values will be initialized to default values.\n",
      "Traceback (most recent call last):\n",
      "  File \"/home/lenguyen/.virtualenvs/ml-backend/flux/bin/accelerate\", line 8, in <module>\n",
      "    sys.exit(main())\n",
      "  File \"/home/lenguyen/.virtualenvs/ml-backend/flux/lib/python3.10/site-packages/accelerate/commands/accelerate_cli.py\", line 48, in main\n",
      "    args.func(args)\n",
      "  File \"/home/lenguyen/.virtualenvs/ml-backend/flux/lib/python3.10/site-packages/accelerate/commands/launch.py\", line 1172, in launch_command\n",
      "    simple_launcher(args)\n",
      "  File \"/home/lenguyen/.virtualenvs/ml-backend/flux/lib/python3.10/site-packages/accelerate/commands/launch.py\", line 762, in simple_launcher\n",
      "    raise subprocess.CalledProcessError(returncode=process.returncode, cmd=cmd)\n",
      "subprocess.CalledProcessError: Command '['/home/lenguyen/.virtualenvs/ml-backend/flux/bin/python', 'train_dreambooth_flux.py', '--pretrained_model_name_or_path=black-forest-labs/FLUX.1-dev', '--dataset_name=./data/extract', '--output_dir=./models/4', '--instance_prompt=dog', '--image_column=my-image-url', '--caption_column=my-prompt', '--resolution=128', '--train_batch_size=8', '--learning_rate=5e-6', '--num_train_epochs=1', '--max_train_steps=1']' died with <Signals.SIGKILL: 9>.\n"
     ]
    }
   ],
   "source": [
    "# json standard format, custom column\n",
    "!accelerate launch train_dreambooth_flux.py \\\n",
    "  --pretrained_model_name_or_path=\"hf-internal-testing/tiny-flux-pipe\" \\\n",
    "  --dataset_name=\"./data/extract\" \\\n",
    "  --output_dir=\"./models/4\" \\\n",
    "  --instance_prompt=\"dog\" \\\n",
    "  --image_column=\"my-image-url\" \\\n",
    "  --caption_column=\"my-prompt\" \\\n",
    "  --resolution=128 \\\n",
    "  --train_batch_size=8 \\\n",
    "  --learning_rate=5e-6 \\\n",
    "  --num_train_epochs=5\\\n",
    "  --max_train_steps=100\n",
    "  # --push_to_hub"
   ]
  },
  {
   "cell_type": "code",
   "execution_count": null,
   "id": "4efdd692",
   "metadata": {},
   "outputs": [],
   "source": [
    "from datasets import load_dataset, Image\n",
    "\n",
    "data_files = {\n",
    "    \"train\": \"./validation/images\",\n",
    "    \"validation\": \"./validation/images\",\n",
    "    \"test\": \"./validation/images\"\n",
    "}\n",
    "\n",
    "dataset = load_dataset(\n",
    "  \"data/extract\",\n",
    "  # \"data/extract\",\n",
    "    # \"Rapidata/Flux_SD3_MJ_Dalle_Human_Coherence_Dataset\",\n",
    "    # \"crystantine/fluxgym\",\n",
    "    # \"data/1\",\n",
    "    # \"k-mktr/improved-flux-prompts\",\n",
    ")\n",
    "# dataset = dataset.cast_column(\"image\", Image())\n",
    "\n",
    "# dataset = load_dataset(\n",
    "#   \"imagefolder\",\n",
    "#   data_dir= \"data/extract\",\n",
    "#     # \"Rapidata/Flux_SD3_MJ_Dalle_Human_Coherence_Dataset\",\n",
    "#     # \"crystantine/fluxgym\",\n",
    "#     # \"data/1\",\n",
    "#     # \"k-mktr/improved-flux-prompts\",\n",
    "# )\n",
    "# dataset = dataset.cast_column(\"image\", Image())"
   ]
  },
  {
   "cell_type": "code",
   "execution_count": null,
   "id": "1eede792",
   "metadata": {},
   "outputs": [],
   "source": [
    "print(1)"
   ]
  },
  {
   "cell_type": "code",
   "execution_count": null,
   "id": "1d7b93d3",
   "metadata": {},
   "outputs": [],
   "source": [
    "# dataset = load_dataset(\"nyu-mll/glue\", \"mrpc\", split=\"train\")\n",
    "dataset"
   ]
  }
 ],
 "metadata": {
  "kernelspec": {
   "display_name": "flux",
   "language": "python",
   "name": "python3"
  },
  "language_info": {
   "codemirror_mode": {
    "name": "ipython",
    "version": 3
   },
   "file_extension": ".py",
   "mimetype": "text/x-python",
   "name": "python",
   "nbconvert_exporter": "python",
   "pygments_lexer": "ipython3",
   "version": "3.10.11"
  }
 },
 "nbformat": 4,
 "nbformat_minor": 5
}
