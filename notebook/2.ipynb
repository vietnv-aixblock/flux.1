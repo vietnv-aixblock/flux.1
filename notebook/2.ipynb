{
 "cells": [
  {
   "cell_type": "code",
   "execution_count": 27,
   "metadata": {},
   "outputs": [],
   "source": [
    "from datasets import load_dataset\n",
    "from pathlib import Path\n",
    "from PIL import Image\n",
    "import json\n",
    "\n",
    "import base64\n",
    "import imghdr\n",
    "import requests\n",
    "from io import BytesIO\n"
   ]
  },
  {
   "cell_type": "code",
   "execution_count": 22,
   "metadata": {},
   "outputs": [],
   "source": [
    "# hf_dataset = 'diffusers/dog-example'\n",
    "hf_dataset = 'wraps/flux1_dev-small'\n",
    "ds = load_dataset(hf_dataset)\n"
   ]
  },
  {
   "cell_type": "code",
   "execution_count": 25,
   "metadata": {},
   "outputs": [],
   "source": [
    "def get_image(image_input):\n",
    "    if isinstance(image_input, Image.Image):\n",
    "        return image_input\n",
    "    \n",
    "    elif isinstance(image_input, bytes):\n",
    "        try:\n",
    "            return Image.open(BytesIO(image_input))\n",
    "        except Exception:\n",
    "            raise ValueError(\"Invalid image bytes\")\n",
    "    \n",
    "    elif isinstance(image_input, str):\n",
    "        # Check if it's a URL\n",
    "        if image_input.startswith(\"http\"):\n",
    "            try:\n",
    "                response = requests.get(image_input, stream=True)\n",
    "                response.raise_for_status()\n",
    "                return Image.open(response.raw)\n",
    "            except requests.RequestException:\n",
    "                raise ValueError(\"Invalid image URL\")\n",
    "\n",
    "        # Check if it's Base64 encoded\n",
    "        elif image_input.startswith(\"data:image\"):\n",
    "            try:\n",
    "                header, encoded = image_input.split(\",\", 1)  # Remove header\n",
    "                decoded_bytes = base64.b64decode(encoded, validate=True)\n",
    "                if imghdr.what(None, decoded_bytes) is None:\n",
    "                    raise ValueError(\"Invalid Base64 image\")\n",
    "                return Image.open(BytesIO(decoded_bytes))\n",
    "            except (ValueError, TypeError):\n",
    "                raise ValueError(\"Invalid Base64 image data\")\n",
    "\n",
    "        else:\n",
    "            raise ValueError(\"Unsupported image format\")\n",
    "    \n",
    "    else:\n",
    "        raise TypeError(\"Input must be a URL, Base64 string, bytes, or PIL Image\")"
   ]
  },
  {
   "cell_type": "code",
   "execution_count": null,
   "metadata": {},
   "outputs": [],
   "source": [
    "ds_dir = Path.cwd().joinpath('datasets')\n",
    "ds_dir.mkdir(exist_ok=True)\n",
    "\n",
    "def create_local_dataset(ds_dir,hf_dataset):\n",
    "\n",
    "    for subset in ds.keys():\n",
    "        subset_dir = ds_dir.joinpath(subset)\n",
    "        subset_dir.mkdir(exist_ok=True)\n",
    "\n",
    "    for i, item in enumerate(ds[subset]):\n",
    "        image = get_image(item[\"image\"])\n",
    "        prompt = item[\"prompt\"] \n",
    "        \n",
    "        img_path = subset_dir.joinpath(f\"{i}.jpg\")\n",
    "        prompt_path = subset_dir.joinpath(f\"{i}.txt\")\n",
    "\n",
    "        if isinstance(image, Image.Image):\n",
    "            image.save(img_path)\n",
    "        elif isinstance(image, str): \n",
    "            img_path.write_bytes(Path(image).read_bytes())\n",
    "        with open(prompt_path, \"w\", encoding=\"utf-8\") as f:\n",
    "            f.write(prompt)\n",
    "        pass\n",
    "\n"
   ]
  }
 ],
 "metadata": {
  "kernelspec": {
   "display_name": "flux",
   "language": "python",
   "name": "python3"
  },
  "language_info": {
   "codemirror_mode": {
    "name": "ipython",
    "version": 3
   },
   "file_extension": ".py",
   "mimetype": "text/x-python",
   "name": "python",
   "nbconvert_exporter": "python",
   "pygments_lexer": "ipython3",
   "version": "3.10.11"
  }
 },
 "nbformat": 4,
 "nbformat_minor": 2
}
